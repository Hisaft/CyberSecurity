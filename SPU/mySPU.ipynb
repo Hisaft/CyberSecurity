{
 "cells": [
  {
   "cell_type": "code",
   "execution_count": 15,
   "metadata": {},
   "outputs": [],
   "source": [
    "from typing import Any\n",
    "# 定义一个基础的SPU\n",
    "class spu:\n",
    "    def __init__(self):\n",
    "        self.result = None\n",
    "    def __call__(self, f):\n",
    "        def inner(*args):\n",
    "            return (f(*args))\n",
    "        return inner\n",
    "    def reveal(self):\n",
    "        return self.result\n",
    "\n"
   ]
  },
  {
   "cell_type": "code",
   "execution_count": 16,
   "metadata": {},
   "outputs": [
    {
     "name": "stdout",
     "output_type": "stream",
     "text": [
      "True\n"
     ]
    }
   ],
   "source": [
    "# 例子 - YAO's Millionaire Problem\n",
    "def get_winner(a, b) -> bool:\n",
    "    return a > b\n",
    "\n",
    "spu_device = spu()\n",
    "win = spu_device(get_winner)(5,1)\n",
    "print(win)"
   ]
  }
 ],
 "metadata": {
  "kernelspec": {
   "display_name": "sf1",
   "language": "python",
   "name": "python3"
  },
  "language_info": {
   "codemirror_mode": {
    "name": "ipython",
    "version": 3
   },
   "file_extension": ".py",
   "mimetype": "text/x-python",
   "name": "python",
   "nbconvert_exporter": "python",
   "pygments_lexer": "ipython3",
   "version": "3.8.15"
  },
  "orig_nbformat": 4
 },
 "nbformat": 4,
 "nbformat_minor": 2
}
