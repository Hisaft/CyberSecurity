{
 "cells": [
  {
   "cell_type": "code",
   "execution_count": null,
   "metadata": {},
   "outputs": [],
   "source": [
    "import random\n",
    "import math\n",
    "\n",
    "def isPrime(x : int) -> bool:\n",
    "    if x == 0 or x == 1:\n",
    "        return False\n",
    "    else:\n",
    "        upb = math.ceil(math.sqrt(x))\n",
    "        for i in range(2,upb):\n",
    "            if x % i == 0:\n",
    "                return False\n",
    "        return True\n",
    "\n",
    "def primegenerator() -> int:\n",
    "    x = 0\n",
    "    while not isPrime(x):\n",
    "        x = random.randint(1000,100000)\n",
    "    return x\n",
    "\n",
    "class heu:\n",
    "    def __init__(self) -> None:\n",
    "        self.p = primegenerator()\n",
    "        self.g = random.randint(10000,100000)\n",
    "    def get_p(self) -> int:\n",
    "        return self.p\n",
    "    def get_g(self) -> int:\n",
    "        return self.g\n",
    "    def enc(self, data):\n",
    "        data = lambda x : pow(self.g,x) % self.p\n",
    "        return data "
   ]
  }
 ],
 "metadata": {
  "language_info": {
   "name": "python"
  },
  "orig_nbformat": 4
 },
 "nbformat": 4,
 "nbformat_minor": 2
}
